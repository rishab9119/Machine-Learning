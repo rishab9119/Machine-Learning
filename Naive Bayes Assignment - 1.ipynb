{
 "cells": [
  {
   "cell_type": "markdown",
   "id": "6e4e87a9-e09f-47b2-8d15-4c66845b90aa",
   "metadata": {},
   "source": [
    "# Q1. What is Bayes' theorem?"
   ]
  },
  {
   "cell_type": "markdown",
   "id": "da09d467-88d7-430d-b2ab-35a9e9acad67",
   "metadata": {},
   "source": [
    "Bayes' theorem is a mathematical formula used to calculate the probability of an event occurring based on prior knowledge of related events. It is named after the 18th-century British statistician Thomas Bayes. Bayes' theorem describes the probability of an event, based on prior knowledge of conditions that might be related to the event. Mathematically, it is expressed as P(A|B) = P(B|A) * P(A) / P(B), where A and B are events, P(A) is the prior probability of event A, P(B|A) is the likelihood of event B given event A, P(B) is the prior probability of event B, and P(A|B) is the posterior probability of event A given event B."
   ]
  },
  {
   "cell_type": "markdown",
   "id": "6a29eaeb-0fbc-4370-8bf2-4b02a240a2c8",
   "metadata": {},
   "source": [
    "# Q2. What is the formula for Bayes' theorem?"
   ]
  },
  {
   "cell_type": "markdown",
   "id": "5f479f11-7763-43e6-8886-abd360c2b21d",
   "metadata": {},
   "source": [
    "Bayes' theorem states that the probability of an event occurring given the prior knowledge of related conditions that might be associated with the event can be calculated using the following formula:\n",
    "\n",
    "P(A|B) = P(B|A) * P(A) / P(B)\n",
    "\n",
    "where:\n",
    "\n",
    "* P(A|B) is the probability of A given that B is true (posterior probability)\n",
    "* P(B|A) is the probability of B given that A is true (likelihood)\n",
    "* P(A) is the probability of A being true (prior probability)\n",
    "* P(B) is the probability of B being true (marginal likelihood)"
   ]
  },
  {
   "cell_type": "markdown",
   "id": "1154ec7c-b717-411b-9bcf-694a38cbe195",
   "metadata": {},
   "source": [
    "# Q3. How is Bayes' theorem used in practice?"
   ]
  },
  {
   "cell_type": "markdown",
   "id": "416521fd-1b5f-4a84-835e-61d4fe2bd44f",
   "metadata": {},
   "source": [
    "Bayes' theorem is used in practice in many fields, including machine learning, statistics, and artificial intelligence. It is used to update probabilities based on new evidence or data. For example, in machine learning, Bayes' theorem is used to calculate the posterior probability of a class given a set of input features. This allows for the creation of probabilistic models that can make predictions based on uncertain or incomplete data. In Bayesian statistics, Bayes' theorem is used to update prior beliefs about a parameter or hypothesis in light of new data."
   ]
  },
  {
   "cell_type": "markdown",
   "id": "9b549fdb-7fa2-4a71-80b8-d7c335a4057a",
   "metadata": {},
   "source": [
    "# Q4. What is the relationship between Bayes' theorem and conditional probability?"
   ]
  },
  {
   "cell_type": "markdown",
   "id": "1e20e8ad-b54a-4a29-a7ab-b0bcf56348c1",
   "metadata": {},
   "source": [
    "Bayes' theorem is based on conditional probability. Specifically, it allows us to update our belief about the probability of an event based on new evidence.\n",
    "\n",
    "Conditional probability is the probability of an event A given that another event B has occurred, and is denoted as P(A|B). Bayes' theorem expresses this relationship mathematically:\n",
    "\n",
    "P(A|B) = P(B|A) * P(A) / P(B)\n",
    "\n",
    "where P(A) is the prior probability of event A, P(B|A) is the likelihood of observing event B given that event A has occurred, P(B) is the marginal probability of event B (i.e., the probability of observing event B regardless of whether event A has occurred), and P(A|B) is the posterior probability of event A given that event B has occurred.\n",
    "\n",
    "In other words, Bayes' theorem provides a way to calculate the probability of an event after taking into account new information or evidence."
   ]
  },
  {
   "cell_type": "markdown",
   "id": "ed1d48a8-851a-4b32-970a-e1fd5defc749",
   "metadata": {},
   "source": [
    "# Q5. How do you choose which type of Naive Bayes classifier to use for any given problem?"
   ]
  },
  {
   "cell_type": "markdown",
   "id": "3654e6aa-6a95-4548-89f9-13df3d51a96e",
   "metadata": {},
   "source": [
    "There are three main types of Naive Bayes classifiers:\n",
    "\n",
    "1. Gaussian Naive Bayes: This classifier is used for continuous data, assuming that the features follow a normal (Gaussian) distribution.\n",
    "\n",
    "2. Multinomial Naive Bayes: This classifier is used for discrete data, such as word counts in text classification.\n",
    "\n",
    "3. Bernoulli Naive Bayes: This classifier is similar to the multinomial Naive Bayes, but it assumes that the features are binary (0 or 1).\n",
    "\n",
    "To choose which type of Naive Bayes classifier to use, you need to consider the nature of your data and the problem you are trying to solve.\n",
    "\n",
    "If your features are continuous, then the Gaussian Naive Bayes is the most appropriate choice. On the other hand, if your features are counts or frequencies (discrete data), then either the Multinomial or Bernoulli Naive Bayes can be used. In text classification, for example, Multinomial Naive Bayes is often used because it is well-suited for dealing with sparse data and is relatively efficient. Bernoulli Naive Bayes is useful in cases where binary features are more appropriate, such as sentiment analysis where you want to determine if a text expresses a positive or negative sentiment.\n",
    "\n",
    "In general, the choice of Naive Bayes classifier should be based on a thorough understanding of the data and the problem at hand, and experimentation may be needed to determine which classifier works best for a given problem."
   ]
  },
  {
   "cell_type": "markdown",
   "id": "5984e292-866a-4035-9521-a814c8e87659",
   "metadata": {},
   "source": [
    "# Q6. Assignment:\n",
    "\n",
    "You have a dataset with two features, X1 and X2, and two possible classes, A and B. You want to use Naive\n",
    "Bayes to classify a new instance with features X1 = 3 and X2 = 4. The following table shows the frequency of\n",
    "each feature value for each class:\n",
    "\n",
    "     Class X1=1 X1=2 X1=3 X2=1 X2=2 X2=3 X2=4\n",
    "        A   3    3    4    4    3    3    3\n",
    "        B   2    2    1    2    2    2    3\n",
    "\n",
    "Assuming equal prior probabilities for each class, which class would Naive Bayes predict the new instance\n",
    "to belong to?"
   ]
  },
  {
   "cell_type": "markdown",
   "id": "053b19c1-b194-498a-a85c-4f55677215bd",
   "metadata": {},
   "source": [
    "To classify the new instance, we need to compute the posterior probability of each class given the values of X1=3 and X2=4 using Bayes' theorem and then select the class with the highest probability.\n",
    "\n",
    "Let's first calculate the likelihood probabilities of X1=3 and X2=4 for each class using Laplace smoothing (assuming alpha = 1):\n",
    "\n",
    "     P(X1=3|A) = (4+1)/(20+2*1) = 0.25\n",
    "     P(X1=3|B) = (1+1)/(20+2*1) = 0.0625\n",
    "     P(X2=4|A) = (3+1)/(20+2*1) = 0.1875\n",
    "     P(X2=4|B) = (3+1)/(20+2*1) = 0.1875\n",
    "     \n",
    "Next, we calculate the prior probability of each class, assuming equal prior probabilities for each class:\n",
    "\n",
    "      P(A) = 0.5\n",
    "      P(B) = 0.5\n",
    "      \n",
    "Now we can use Bayes' theorem to calculate the posterior probability of each class:\n",
    "\n",
    "     P(A|X1=3,X2=4) = P(X1=3|A) * P(X2=4|A) * P(A) = 0.25 * 0.1875 * 0.5 = 0.0234\n",
    "     P(B|X1=3,X2=4) = P(X1=3|B) * P(X2=4|B) * P(B) = 0.0625 * 0.1875 * 0.5 = 0.0059\n",
    "     \n",
    "Therefore, Naive Bayes would predict that the new instance belongs to class A, since it has a higher posterior probability."
   ]
  }
 ],
 "metadata": {
  "kernelspec": {
   "display_name": "Python 3 (ipykernel)",
   "language": "python",
   "name": "python3"
  },
  "language_info": {
   "codemirror_mode": {
    "name": "ipython",
    "version": 3
   },
   "file_extension": ".py",
   "mimetype": "text/x-python",
   "name": "python",
   "nbconvert_exporter": "python",
   "pygments_lexer": "ipython3",
   "version": "3.10.8"
  }
 },
 "nbformat": 4,
 "nbformat_minor": 5
}
