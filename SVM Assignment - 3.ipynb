{
 "cells": [
  {
   "cell_type": "markdown",
   "id": "ab6bedfc-03bb-4131-91cc-317d56b2ebf2",
   "metadata": {},
   "source": [
    "# Q1. In order to predict house price based on several characteristics, such as location, square footage, number of bedrooms, etc., you are developing an SVM regression model. Which regression metric in this situation would be the best to employ?"
   ]
  },
  {
   "cell_type": "code",
   "execution_count": 3,
   "id": "e072cf91-ea4a-4fc7-969c-f28e7ad55f6f",
   "metadata": {},
   "outputs": [
    {
     "name": "stdout",
     "output_type": "stream",
     "text": [
      "https://drive.google.com/file/d/1Z9oLpmt6IDRNw7IeNcHYTGeJRYypRSC0/view?usp=share_link\n"
     ]
    }
   ],
   "source": [
    "Dataset_link = 'https://drive.google.com/file/d/1Z9oLpmt6IDRNw7IeNcHYTGeJRYypRSC0/view?usp=share_link'\n",
    "print(Dataset_link)"
   ]
  },
  {
   "cell_type": "markdown",
   "id": "a504e637-0880-48a7-b003-cf7f5aa20d23",
   "metadata": {},
   "source": [
    "In order to predict house prices based on several characteristics, such as location, square footage, number of bedrooms, etc., Mean Absolute Error (MAE) would be the best regression metric to employ. MAE measures the average magnitude of errors in a set of predictions, without considering their direction. This is important in the context of predicting house prices, as we want to be able to accurately estimate the average deviation of our predictions from the actual prices, without worrying about the direction of the deviation. Other regression metrics such as Mean Squared Error (MSE) and Root Mean Squared Error (RMSE) could also be used, but they would give more weight to larger errors, which might not be desirable in this situation."
   ]
  },
  {
   "cell_type": "markdown",
   "id": "e8cf332b-4026-487e-8682-fbad628b2813",
   "metadata": {},
   "source": [
    "# Q2. You have built an SVM regression model and are trying to decide between using MSE or R-squared as your evaluation metric. Which metric would be more appropriate if your goal is to predict the actual price of a house as accurately as possible?"
   ]
  },
  {
   "cell_type": "markdown",
   "id": "f48ba18f-0e7a-4993-9883-34e01ec70fd3",
   "metadata": {},
   "source": [
    "If your goal is to predict the actual price of a house as accurately as possible, then Mean Squared Error (MSE) would be the more appropriate evaluation metric.\n",
    "\n",
    "MSE measures the average squared difference between the predicted and actual values. In the context of predicting house prices, MSE would give a higher penalty for larger errors, which is important since even a small difference in price prediction could lead to a significant difference in the final outcome.\n",
    "\n",
    "On the other hand, R-squared measures the proportion of variance in the target variable that is explained by the model. While it is a useful metric for understanding the overall performance of the model, it does not necessarily reflect the accuracy of individual predictions. Therefore, for the specific goal of predicting house prices as accurately as possible, MSE would be the better choice."
   ]
  },
  {
   "cell_type": "markdown",
   "id": "a22d1a2a-3604-4b49-9398-ef13073f859b",
   "metadata": {},
   "source": [
    "# Q3. You have a dataset with a significant number of outliers and are trying to select an appropriate regression metric to use with your SVM model. Which metric would be the most appropriate in this scenario?"
   ]
  },
  {
   "cell_type": "markdown",
   "id": "063cf963-8937-4bd5-ac8d-3cafc67e892a",
   "metadata": {},
   "source": [
    "When dealing with a dataset that contains a significant number of outliers, it is generally more appropriate to use a robust regression metric rather than a traditional metric. One such metric is the Mean Absolute Error (MAE), which is less sensitive to outliers than the Mean Squared Error (MSE). Therefore, MAE would be the most appropriate regression metric to use in this scenario with an SVM model."
   ]
  },
  {
   "cell_type": "markdown",
   "id": "fc332771-79ac-4ab8-9207-9b6616a6b410",
   "metadata": {},
   "source": [
    "# Q4. You have built an SVM regression model using a polynomial kernel and are trying to select the best metric to evaluate its performance. You have calculated both MSE and RMSE and found that both values are very close. Which metric should you choose to use in this case?"
   ]
  },
  {
   "cell_type": "markdown",
   "id": "a64a1516-fc34-466a-8352-96d00b19ca14",
   "metadata": {},
   "source": [
    "In general, RMSE (Root Mean Squared Error) is a more interpretable metric compared to MSE (Mean Squared Error) as it is on the same scale as the target variable. However, if the difference between the MSE and RMSE is negligible, either of them can be used to evaluate the performance of the SVM regression model. Therefore, in this case, either metric can be chosen to evaluate the model's performance."
   ]
  },
  {
   "cell_type": "markdown",
   "id": "a8456ca3-9014-415c-8d81-80814492499d",
   "metadata": {},
   "source": [
    "# Q5. You are comparing the performance of different SVM regression models using different kernels (linear, polynomial, and RBF) and are trying to select the best evaluation metric. Which metric would be most appropriate if your goal is to measure how well the model explains the variance in the target variable?"
   ]
  },
  {
   "cell_type": "markdown",
   "id": "13219bdc-739e-438f-911b-e92d9be866c5",
   "metadata": {},
   "source": [
    "The most appropriate metric in this case would be the coefficient of determination, also known as R-squared. R-squared measures how well the model fits the data by comparing the variance of the predicted values to the variance of the actual values. It ranges from 0 to 1, with 1 indicating a perfect fit and 0 indicating no linear relationship between the predicted and actual values. Therefore, if the goal is to measure how well the model explains the variance in the target variable, R-squared would be the most appropriate metric to use."
   ]
  }
 ],
 "metadata": {
  "kernelspec": {
   "display_name": "Python 3 (ipykernel)",
   "language": "python",
   "name": "python3"
  },
  "language_info": {
   "codemirror_mode": {
    "name": "ipython",
    "version": 3
   },
   "file_extension": ".py",
   "mimetype": "text/x-python",
   "name": "python",
   "nbconvert_exporter": "python",
   "pygments_lexer": "ipython3",
   "version": "3.10.8"
  }
 },
 "nbformat": 4,
 "nbformat_minor": 5
}
