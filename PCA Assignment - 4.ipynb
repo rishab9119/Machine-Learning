{
 "cells": [
  {
   "cell_type": "markdown",
   "id": "731ace3c-2741-43fd-9cae-12940e33148f",
   "metadata": {},
   "source": [
    "# Assignment: PCA Implementation"
   ]
  },
  {
   "cell_type": "markdown",
   "id": "a52dd603-e369-45d7-babb-f6edebd5d22d",
   "metadata": {},
   "source": [
    "## Objective:\n",
    "\n",
    "The objective of this assignment is to implement PCA on a given dataset and analyse the results."
   ]
  },
  {
   "cell_type": "markdown",
   "id": "b5a2cbee-35b7-4aa6-a576-019dda09ccda",
   "metadata": {},
   "source": [
    "## Instructions:\n",
    "\n",
    "Download the wine dataset from the UCI Machine Learning Repository\n",
    "\n",
    "Load the dataset into a Pandas dataframe.\n",
    "(https://archive.ics.uci.edu/ml/datasets/Wine).\n",
    "\n",
    "Split the dataset into features and target variables.\n",
    "\n",
    "Perform data preprocessing (e.g., scaling, normalisation, missing value imputation) as necessary.\n",
    "\n",
    "Implement PCA on the preprocessed dataset using the scikit-learn library.\n",
    "\n",
    "Determine the optimal number of principal components to retain based on the explained variance ratio.\n",
    "\n",
    "Visualise the results of PCA using a scatter plot.\n",
    "\n",
    "Perform clustering on the PCA-transformed data using K-Means clustering algorithm.\n",
    "\n",
    "Interpret the results of PCA and clustering analysis."
   ]
  },
  {
   "cell_type": "markdown",
   "id": "6ec5ea83-bbbf-4055-bca0-f123fbb6284d",
   "metadata": {},
   "source": [
    "## Deliverables:\n",
    "\n",
    "Jupyter notebook containing the code for the PCA implementation.\n",
    "\n",
    "A report summarising the results of PCA and clustering analysis.\n",
    "\n",
    "Scatter plot showing the results of PCA.\n",
    "\n",
    "A table showing the performance metrics for the clustering algorithm."
   ]
  },
  {
   "cell_type": "markdown",
   "id": "d5a6ee29-9bec-4764-acc3-19ccdb0c1925",
   "metadata": {},
   "source": [
    "## Additional Information:\n",
    "\n",
    "You can use the python programming language.\n",
    "\n",
    "You can use any other machine learning libraries or tools as necessary.\n",
    "\n",
    "You can use any visualisation libraries or tools as necessary."
   ]
  },
  {
   "cell_type": "markdown",
   "id": "672119d1-8bc3-4fbf-ada3-b8763d610afd",
   "metadata": {},
   "source": [
    "## PCA Implementation With Python"
   ]
  },
  {
   "cell_type": "code",
   "execution_count": 1,
   "id": "b1a0df9f-2995-43cd-8e7d-213615433981",
   "metadata": {},
   "outputs": [],
   "source": [
    "import numpy as np\n",
    "import matplotlib.pyplot as plt\n",
    "from sklearn.decomposition import PCA\n",
    "import pandas as pd "
   ]
  },
  {
   "cell_type": "code",
   "execution_count": 2,
   "id": "f0f2915c-e218-41ec-86d3-25fd4296d12d",
   "metadata": {},
   "outputs": [],
   "source": [
    "df = pd.read_csv('wine_data.csv')"
   ]
  },
  {
   "cell_type": "code",
   "execution_count": 3,
   "id": "bd7625bb-c288-4a52-9881-970c4adfa86b",
   "metadata": {},
   "outputs": [
    {
     "data": {
      "text/html": [
       "<div>\n",
       "<style scoped>\n",
       "    .dataframe tbody tr th:only-of-type {\n",
       "        vertical-align: middle;\n",
       "    }\n",
       "\n",
       "    .dataframe tbody tr th {\n",
       "        vertical-align: top;\n",
       "    }\n",
       "\n",
       "    .dataframe thead th {\n",
       "        text-align: right;\n",
       "    }\n",
       "</style>\n",
       "<table border=\"1\" class=\"dataframe\">\n",
       "  <thead>\n",
       "    <tr style=\"text-align: right;\">\n",
       "      <th></th>\n",
       "      <th>Alcohol</th>\n",
       "      <th>Malic acid</th>\n",
       "      <th>Ash</th>\n",
       "      <th>Alcalinity of ash</th>\n",
       "      <th>Magnesium</th>\n",
       "      <th>Total phenols</th>\n",
       "      <th>Flavanoids</th>\n",
       "      <th>Nonflavanoid phenols</th>\n",
       "      <th>Proanthocyanins</th>\n",
       "      <th>Color intensity</th>\n",
       "      <th>Hue</th>\n",
       "      <th>OD280/OD315 of diluted wines</th>\n",
       "      <th>Proline</th>\n",
       "      <th>Target</th>\n",
       "    </tr>\n",
       "  </thead>\n",
       "  <tbody>\n",
       "    <tr>\n",
       "      <th>0</th>\n",
       "      <td>14.23</td>\n",
       "      <td>1.71</td>\n",
       "      <td>2.43</td>\n",
       "      <td>15.6</td>\n",
       "      <td>127</td>\n",
       "      <td>2.80</td>\n",
       "      <td>3.06</td>\n",
       "      <td>0.28</td>\n",
       "      <td>2.29</td>\n",
       "      <td>5.64</td>\n",
       "      <td>1.04</td>\n",
       "      <td>3.92</td>\n",
       "      <td>1065</td>\n",
       "      <td>1</td>\n",
       "    </tr>\n",
       "    <tr>\n",
       "      <th>1</th>\n",
       "      <td>13.20</td>\n",
       "      <td>1.78</td>\n",
       "      <td>2.14</td>\n",
       "      <td>11.2</td>\n",
       "      <td>100</td>\n",
       "      <td>2.65</td>\n",
       "      <td>2.76</td>\n",
       "      <td>0.26</td>\n",
       "      <td>1.28</td>\n",
       "      <td>4.38</td>\n",
       "      <td>1.05</td>\n",
       "      <td>3.40</td>\n",
       "      <td>1050</td>\n",
       "      <td>1</td>\n",
       "    </tr>\n",
       "    <tr>\n",
       "      <th>2</th>\n",
       "      <td>13.16</td>\n",
       "      <td>2.36</td>\n",
       "      <td>2.67</td>\n",
       "      <td>18.6</td>\n",
       "      <td>101</td>\n",
       "      <td>2.80</td>\n",
       "      <td>3.24</td>\n",
       "      <td>0.30</td>\n",
       "      <td>2.81</td>\n",
       "      <td>5.68</td>\n",
       "      <td>1.03</td>\n",
       "      <td>3.17</td>\n",
       "      <td>1185</td>\n",
       "      <td>1</td>\n",
       "    </tr>\n",
       "    <tr>\n",
       "      <th>3</th>\n",
       "      <td>14.37</td>\n",
       "      <td>1.95</td>\n",
       "      <td>2.50</td>\n",
       "      <td>16.8</td>\n",
       "      <td>113</td>\n",
       "      <td>3.85</td>\n",
       "      <td>3.49</td>\n",
       "      <td>0.24</td>\n",
       "      <td>2.18</td>\n",
       "      <td>7.80</td>\n",
       "      <td>0.86</td>\n",
       "      <td>3.45</td>\n",
       "      <td>1480</td>\n",
       "      <td>1</td>\n",
       "    </tr>\n",
       "    <tr>\n",
       "      <th>4</th>\n",
       "      <td>13.24</td>\n",
       "      <td>2.59</td>\n",
       "      <td>2.87</td>\n",
       "      <td>21.0</td>\n",
       "      <td>118</td>\n",
       "      <td>2.80</td>\n",
       "      <td>2.69</td>\n",
       "      <td>0.39</td>\n",
       "      <td>1.82</td>\n",
       "      <td>4.32</td>\n",
       "      <td>1.04</td>\n",
       "      <td>2.93</td>\n",
       "      <td>735</td>\n",
       "      <td>1</td>\n",
       "    </tr>\n",
       "  </tbody>\n",
       "</table>\n",
       "</div>"
      ],
      "text/plain": [
       "   Alcohol  Malic acid   Ash  Alcalinity of ash  Magnesium  Total phenols  \\\n",
       "0    14.23        1.71  2.43               15.6        127           2.80   \n",
       "1    13.20        1.78  2.14               11.2        100           2.65   \n",
       "2    13.16        2.36  2.67               18.6        101           2.80   \n",
       "3    14.37        1.95  2.50               16.8        113           3.85   \n",
       "4    13.24        2.59  2.87               21.0        118           2.80   \n",
       "\n",
       "   Flavanoids  Nonflavanoid phenols  Proanthocyanins  Color intensity   Hue  \\\n",
       "0        3.06                  0.28             2.29             5.64  1.04   \n",
       "1        2.76                  0.26             1.28             4.38  1.05   \n",
       "2        3.24                  0.30             2.81             5.68  1.03   \n",
       "3        3.49                  0.24             2.18             7.80  0.86   \n",
       "4        2.69                  0.39             1.82             4.32  1.04   \n",
       "\n",
       "   OD280/OD315 of diluted wines  Proline  Target   \n",
       "0                          3.92     1065        1  \n",
       "1                          3.40     1050        1  \n",
       "2                          3.17     1185        1  \n",
       "3                          3.45     1480        1  \n",
       "4                          2.93      735        1  "
      ]
     },
     "execution_count": 3,
     "metadata": {},
     "output_type": "execute_result"
    }
   ],
   "source": [
    "df.head()"
   ]
  },
  {
   "cell_type": "code",
   "execution_count": 4,
   "id": "35e9bed3-7b5a-4715-a0fd-d75cb4dd31aa",
   "metadata": {},
   "outputs": [],
   "source": [
    "X = df.iloc[:,:-1]\n",
    "y = df.iloc[:,-1]"
   ]
  },
  {
   "cell_type": "code",
   "execution_count": 5,
   "id": "4f524c42-eecb-43bc-b132-18bc521ea513",
   "metadata": {},
   "outputs": [],
   "source": [
    "# Split the dataset into training and test sets\n",
    "from sklearn.model_selection import train_test_split\n",
    "X_train, X_test, y_train, y_test = train_test_split(X, y, test_size=0.2, random_state=42)"
   ]
  },
  {
   "cell_type": "code",
   "execution_count": 6,
   "id": "6ec5a2a9-0176-4de9-83c2-eaf3d7b0dbe9",
   "metadata": {},
   "outputs": [],
   "source": [
    "# Perform feature scaling using StandardScaler\n",
    "from sklearn.preprocessing import StandardScaler\n",
    "scaler = StandardScaler()\n",
    "X_train_scaled = scaler.fit_transform(X_train)\n",
    "X_test_scaled = scaler.transform(X_test)"
   ]
  },
  {
   "cell_type": "code",
   "execution_count": 7,
   "id": "d1caf94d-d167-4cee-ac83-9440bb0c8f27",
   "metadata": {},
   "outputs": [
    {
     "data": {
      "text/html": [
       "<style>#sk-container-id-1 {color: black;background-color: white;}#sk-container-id-1 pre{padding: 0;}#sk-container-id-1 div.sk-toggleable {background-color: white;}#sk-container-id-1 label.sk-toggleable__label {cursor: pointer;display: block;width: 100%;margin-bottom: 0;padding: 0.3em;box-sizing: border-box;text-align: center;}#sk-container-id-1 label.sk-toggleable__label-arrow:before {content: \"▸\";float: left;margin-right: 0.25em;color: #696969;}#sk-container-id-1 label.sk-toggleable__label-arrow:hover:before {color: black;}#sk-container-id-1 div.sk-estimator:hover label.sk-toggleable__label-arrow:before {color: black;}#sk-container-id-1 div.sk-toggleable__content {max-height: 0;max-width: 0;overflow: hidden;text-align: left;background-color: #f0f8ff;}#sk-container-id-1 div.sk-toggleable__content pre {margin: 0.2em;color: black;border-radius: 0.25em;background-color: #f0f8ff;}#sk-container-id-1 input.sk-toggleable__control:checked~div.sk-toggleable__content {max-height: 200px;max-width: 100%;overflow: auto;}#sk-container-id-1 input.sk-toggleable__control:checked~label.sk-toggleable__label-arrow:before {content: \"▾\";}#sk-container-id-1 div.sk-estimator input.sk-toggleable__control:checked~label.sk-toggleable__label {background-color: #d4ebff;}#sk-container-id-1 div.sk-label input.sk-toggleable__control:checked~label.sk-toggleable__label {background-color: #d4ebff;}#sk-container-id-1 input.sk-hidden--visually {border: 0;clip: rect(1px 1px 1px 1px);clip: rect(1px, 1px, 1px, 1px);height: 1px;margin: -1px;overflow: hidden;padding: 0;position: absolute;width: 1px;}#sk-container-id-1 div.sk-estimator {font-family: monospace;background-color: #f0f8ff;border: 1px dotted black;border-radius: 0.25em;box-sizing: border-box;margin-bottom: 0.5em;}#sk-container-id-1 div.sk-estimator:hover {background-color: #d4ebff;}#sk-container-id-1 div.sk-parallel-item::after {content: \"\";width: 100%;border-bottom: 1px solid gray;flex-grow: 1;}#sk-container-id-1 div.sk-label:hover label.sk-toggleable__label {background-color: #d4ebff;}#sk-container-id-1 div.sk-serial::before {content: \"\";position: absolute;border-left: 1px solid gray;box-sizing: border-box;top: 0;bottom: 0;left: 50%;z-index: 0;}#sk-container-id-1 div.sk-serial {display: flex;flex-direction: column;align-items: center;background-color: white;padding-right: 0.2em;padding-left: 0.2em;position: relative;}#sk-container-id-1 div.sk-item {position: relative;z-index: 1;}#sk-container-id-1 div.sk-parallel {display: flex;align-items: stretch;justify-content: center;background-color: white;position: relative;}#sk-container-id-1 div.sk-item::before, #sk-container-id-1 div.sk-parallel-item::before {content: \"\";position: absolute;border-left: 1px solid gray;box-sizing: border-box;top: 0;bottom: 0;left: 50%;z-index: -1;}#sk-container-id-1 div.sk-parallel-item {display: flex;flex-direction: column;z-index: 1;position: relative;background-color: white;}#sk-container-id-1 div.sk-parallel-item:first-child::after {align-self: flex-end;width: 50%;}#sk-container-id-1 div.sk-parallel-item:last-child::after {align-self: flex-start;width: 50%;}#sk-container-id-1 div.sk-parallel-item:only-child::after {width: 0;}#sk-container-id-1 div.sk-dashed-wrapped {border: 1px dashed gray;margin: 0 0.4em 0.5em 0.4em;box-sizing: border-box;padding-bottom: 0.4em;background-color: white;}#sk-container-id-1 div.sk-label label {font-family: monospace;font-weight: bold;display: inline-block;line-height: 1.2em;}#sk-container-id-1 div.sk-label-container {text-align: center;}#sk-container-id-1 div.sk-container {/* jupyter's `normalize.less` sets `[hidden] { display: none; }` but bootstrap.min.css set `[hidden] { display: none !important; }` so we also need the `!important` here to be able to override the default hidden behavior on the sphinx rendered scikit-learn.org. See: https://github.com/scikit-learn/scikit-learn/issues/21755 */display: inline-block !important;position: relative;}#sk-container-id-1 div.sk-text-repr-fallback {display: none;}</style><div id=\"sk-container-id-1\" class=\"sk-top-container\"><div class=\"sk-text-repr-fallback\"><pre>PCA(n_components=3)</pre><b>In a Jupyter environment, please rerun this cell to show the HTML representation or trust the notebook. <br />On GitHub, the HTML representation is unable to render, please try loading this page with nbviewer.org.</b></div><div class=\"sk-container\" hidden><div class=\"sk-item\"><div class=\"sk-estimator sk-toggleable\"><input class=\"sk-toggleable__control sk-hidden--visually\" id=\"sk-estimator-id-1\" type=\"checkbox\" checked><label for=\"sk-estimator-id-1\" class=\"sk-toggleable__label sk-toggleable__label-arrow\">PCA</label><div class=\"sk-toggleable__content\"><pre>PCA(n_components=3)</pre></div></div></div></div></div>"
      ],
      "text/plain": [
       "PCA(n_components=3)"
      ]
     },
     "execution_count": 7,
     "metadata": {},
     "output_type": "execute_result"
    }
   ],
   "source": [
    "## PCA- Transformation\n",
    "\n",
    "from sklearn.decomposition import PCA\n",
    "pca=PCA(n_components=3)\n",
    "pca"
   ]
  },
  {
   "cell_type": "code",
   "execution_count": 8,
   "id": "b36fc18d-70c8-409b-bda5-fdecbb394bfd",
   "metadata": {},
   "outputs": [
    {
     "data": {
      "text/plain": [
       "array([[-1.16602698e+00, -3.61532732e+00,  1.15128454e+00],\n",
       "       [-3.86261156e+00, -4.82177461e-01,  1.72758428e+00],\n",
       "       [ 2.28353786e+00,  1.27503318e+00, -1.31676575e-01],\n",
       "       [-1.67850727e+00, -2.49696152e+00,  5.56618524e-01],\n",
       "       [ 1.57284216e+00,  6.88203487e-01, -1.41794489e+00],\n",
       "       [ 2.02555486e-01,  2.22577338e+00, -3.98618759e-01],\n",
       "       [ 8.83338617e-01,  2.00469937e+00, -2.92836715e-01],\n",
       "       [-7.15050214e-01,  2.02557575e-01, -8.09915744e-01],\n",
       "       [-2.31535447e+00, -3.50467442e-01, -1.36667942e-01],\n",
       "       [ 2.48181734e+00, -1.19480758e+00,  1.00430735e+00],\n",
       "       [ 9.27003335e-01,  2.36914720e+00, -1.53605856e+00],\n",
       "       [-1.10503027e+00,  7.91750104e-01,  3.01762192e+00],\n",
       "       [-2.64179811e+00, -3.73566993e-01, -1.31266082e+00],\n",
       "       [ 2.82856352e+00, -9.08533324e-01,  2.36827368e-02],\n",
       "       [ 4.68714502e-01,  2.12468019e+00, -2.39187193e+00],\n",
       "       [ 2.70840181e+00, -1.53490440e+00, -5.69043448e-01],\n",
       "       [ 1.78020693e+00, -8.47127661e-01, -6.30285142e-03],\n",
       "       [-2.75483138e+00, -2.13895379e+00, -9.04129773e-01],\n",
       "       [-3.00838158e+00, -2.84596615e-01, -9.41280560e-01],\n",
       "       [ 5.08790176e-01,  2.03246235e+00, -3.90714200e-01],\n",
       "       [ 1.36844583e+00,  7.60471135e-01, -1.40902111e+00],\n",
       "       [ 1.38621221e+00, -7.05661067e-01,  4.00474923e-01],\n",
       "       [ 8.27658568e-01,  2.30685810e+00,  2.31966651e-01],\n",
       "       [ 2.56156818e+00, -3.30885610e-02, -2.20326889e-01],\n",
       "       [-4.19073741e+00, -4.09150784e-01, -1.34816263e+00],\n",
       "       [ 1.12473644e+00,  2.47440627e+00, -9.98058503e-01],\n",
       "       [ 2.10180811e+00,  1.53564514e+00, -1.55960892e+00],\n",
       "       [-2.90299543e+00, -1.15818973e+00, -1.18670083e+00],\n",
       "       [ 1.77260388e+00, -7.19023575e-01, -1.19615761e+00],\n",
       "       [ 2.43519160e+00, -1.35830485e+00, -8.69296708e-01],\n",
       "       [ 1.30044907e+00, -9.28133056e-05, -1.38194092e+00],\n",
       "       [-2.14330370e+00, -9.48267910e-01, -1.33213182e+00],\n",
       "       [ 1.00421026e+00, -8.63327591e-01,  1.94994989e+00],\n",
       "       [ 1.66202235e+00, -1.82914011e-01, -1.55987223e-01],\n",
       "       [ 2.61270687e+00, -1.34848027e-01,  4.28327767e-01],\n",
       "       [-3.09704066e+00,  4.27896405e-01, -9.09779254e-01],\n",
       "       [-7.24397718e-01,  2.50767351e+00, -1.61163959e+00],\n",
       "       [ 3.44636056e+00, -1.46834254e+00, -4.01083073e-01],\n",
       "       [-3.53726857e+00, -1.12435086e+00, -2.58145414e-02],\n",
       "       [-4.05055628e-01,  6.98860858e-01,  7.76521145e-01],\n",
       "       [ 3.29052658e+00, -1.55323615e+00, -1.59635984e-01],\n",
       "       [-2.91308706e+00, -3.26764990e-01,  8.65733271e-01],\n",
       "       [ 1.05113993e-01,  1.18261205e+00,  7.90885913e-01],\n",
       "       [-5.08228967e-01,  1.95790611e+00,  5.35933093e-01],\n",
       "       [ 2.13247901e+00, -3.92521643e-02, -5.81330518e-01],\n",
       "       [-4.49043848e-01,  6.48598382e-01,  9.05038909e-01],\n",
       "       [ 2.16475565e+00, -7.96961837e-01,  1.39669872e+00],\n",
       "       [ 2.57046508e+00, -9.12184491e-01, -5.19024374e-02],\n",
       "       [-1.50749642e+00,  1.19821926e+00,  3.25076791e+00],\n",
       "       [ 9.87692643e-01, -9.46463696e-01,  3.61789883e+00],\n",
       "       [ 1.68802069e+00,  4.27215042e-01,  1.54927768e-01],\n",
       "       [-2.84777868e+00, -2.71645957e-02, -3.62271305e-01],\n",
       "       [ 1.10060564e+00,  1.38203842e+00, -3.06406490e-01],\n",
       "       [ 4.30878099e-01,  1.03338250e+00,  1.87989191e+00],\n",
       "       [ 9.03142842e-01,  1.41967048e+00,  5.41148178e-01],\n",
       "       [ 2.48689977e+00, -1.76551708e+00, -2.26217163e-01],\n",
       "       [-4.00898959e-01,  2.30943207e+00, -1.51840149e+00],\n",
       "       [-6.87346990e-01,  2.23912043e+00,  6.65173138e-01],\n",
       "       [ 8.15347989e-01,  1.35581642e+00,  1.18134068e+00],\n",
       "       [-3.34836805e+00, -2.05408300e+00, -2.27313176e-01],\n",
       "       [-2.77032209e+00, -4.45253947e-01,  7.31123177e-01],\n",
       "       [ 2.80544229e+00, -7.93183090e-01, -1.02602545e+00],\n",
       "       [ 1.03099610e+00,  2.26823233e+00,  1.40751708e-01],\n",
       "       [-2.96941978e+00, -3.40024468e-01, -1.10272908e+00],\n",
       "       [-2.43375778e+00, -2.41949286e+00,  3.18808602e-01],\n",
       "       [-1.72786570e+00,  8.51720601e-01, -1.63468024e+00],\n",
       "       [ 2.57908813e+00, -1.80215930e-01,  3.06494488e+00],\n",
       "       [ 1.89973596e+00, -1.71592534e+00,  1.02660081e+00],\n",
       "       [ 9.25278260e-03,  2.06858698e+00,  5.61636224e-01],\n",
       "       [-2.07426459e+00, -7.68503568e-02, -6.13908655e-01],\n",
       "       [-2.30773674e+00, -1.93316553e-01,  1.16393262e+00],\n",
       "       [ 1.27430394e-01,  1.27101461e+00, -1.77847141e+00],\n",
       "       [-2.35607602e+00, -2.19982768e+00, -6.92674197e-01],\n",
       "       [-1.22036999e+00,  7.82758776e-01,  1.90684615e+00],\n",
       "       [ 6.11226184e-01,  3.73518709e+00,  1.32721419e+00],\n",
       "       [-1.63489451e+00,  1.66572324e+00,  1.05991615e+00],\n",
       "       [ 2.19264941e+00, -2.00738930e+00,  2.95551294e-01],\n",
       "       [ 3.00038015e+00, -2.31449587e+00, -5.94073913e-01],\n",
       "       [-3.09577090e+00, -6.47770187e-01, -2.11665354e-02],\n",
       "       [ 3.66522677e+00, -2.95291205e+00, -9.41913814e-02],\n",
       "       [-3.46694351e+00, -7.39677717e-01, -3.99848233e-01],\n",
       "       [ 2.65530009e+00, -1.91878551e+00, -5.83972221e-01],\n",
       "       [ 1.91153824e+00, -2.58881582e-01,  4.81987165e-01],\n",
       "       [ 8.80580554e-01,  3.31949145e+00, -3.25918036e-01],\n",
       "       [-1.31259029e+00,  1.51041283e+00, -3.01107020e-01],\n",
       "       [ 1.42950261e+00, -7.22113155e-01,  3.76903974e-01],\n",
       "       [ 2.69326770e+00, -1.31006602e+00, -3.31648161e-01],\n",
       "       [ 2.05974786e+00, -1.64690543e+00,  9.70848999e-02],\n",
       "       [ 1.01602724e+00,  1.41274809e+00,  1.70496468e+00],\n",
       "       [ 4.94529690e-01, -3.05487677e-01, -5.26070900e-02],\n",
       "       [-1.42904508e+00,  9.67106600e-01, -8.44815820e-01],\n",
       "       [-3.80263045e+00,  1.64034481e-02,  1.93065198e-01],\n",
       "       [ 1.49422419e+00,  1.37752984e+00,  2.21801256e-01],\n",
       "       [-1.44509962e+00,  1.82882670e+00,  7.19148683e-01],\n",
       "       [-2.45918642e+00,  1.01915240e-01,  5.76030465e-01],\n",
       "       [-2.89294853e+00, -1.83725082e+00, -6.60273532e-01],\n",
       "       [-2.19398553e+00, -1.04665186e+00, -1.72883140e-01],\n",
       "       [-4.26253963e-01,  2.55339942e+00,  8.87310042e-01],\n",
       "       [ 2.49459238e+00, -1.08788634e+00, -1.63856341e+00],\n",
       "       [ 3.39994883e+00, -1.46650790e+00, -9.97566427e-01],\n",
       "       [-7.29569470e-01,  3.09672162e+00, -4.55087913e+00],\n",
       "       [-1.81079917e+00, -1.31157691e+00,  1.09120711e+00],\n",
       "       [-2.30700776e+00, -1.22995981e-01, -8.66673931e-01],\n",
       "       [ 1.86673154e+00, -1.73372518e+00,  7.27078492e-01],\n",
       "       [-6.43084664e-01,  1.13352963e+00,  6.17138351e-02],\n",
       "       [-3.56559699e+00, -1.70447838e+00, -4.22571532e-04],\n",
       "       [-2.27026843e+00,  3.81369380e-01, -1.12023412e+00],\n",
       "       [-2.78306210e+00, -1.47891368e+00, -4.58738879e-01],\n",
       "       [-2.50910253e+00, -5.20285144e-01, -9.57399300e-01],\n",
       "       [ 2.07688409e+00,  1.82458867e+00,  6.82090170e-02],\n",
       "       [ 2.15668189e+00, -1.04636442e+00, -9.80268436e-01],\n",
       "       [-1.50365569e+00,  1.34001409e+00,  2.74443366e-01],\n",
       "       [ 3.19428880e+00, -3.79327914e-01, -1.85369271e+00],\n",
       "       [-2.66343491e+00, -2.55924011e+00, -1.01385616e+00],\n",
       "       [ 3.08479808e+00, -1.87474342e+00, -2.77058479e-01],\n",
       "       [ 1.97956473e+00, -1.37276768e+00, -3.14939454e-02],\n",
       "       [-9.93530904e-01,  1.75813286e+00,  9.41235668e-01],\n",
       "       [ 1.09378499e+00, -2.19550326e-01,  1.00760508e+00],\n",
       "       [ 2.14723517e+00, -1.34405533e+00,  2.70254051e-01],\n",
       "       [-2.47664460e+00, -2.13340923e+00, -9.08375916e-01],\n",
       "       [-1.68748020e+00,  1.20539948e+00,  9.02518700e-01],\n",
       "       [ 1.15499645e+00, -1.72855285e-01, -1.08604790e-01],\n",
       "       [-3.33513419e+00, -1.24791283e+00,  1.48179043e+00],\n",
       "       [-2.18364122e+00, -1.94283021e+00,  5.98404989e-01],\n",
       "       [ 2.25755049e+00,  2.11240924e-01, -1.90304471e+00],\n",
       "       [ 3.44464527e+00, -1.82365216e+00, -3.94559994e-01],\n",
       "       [-2.87744244e+00, -1.78237088e+00, -5.88313219e-01],\n",
       "       [-1.22826301e+00,  5.29355309e-02, -1.47202102e+00],\n",
       "       [-2.55059599e+00, -1.79532345e+00, -4.73012133e-01],\n",
       "       [-5.13437852e-01,  2.65522142e+00, -7.24987845e-01],\n",
       "       [ 1.46565577e+00,  2.01753074e+00,  9.09498129e-01],\n",
       "       [-1.01391102e-01,  2.80469849e+00, -2.89288974e-01],\n",
       "       [-4.48901143e-01,  2.38357288e+00,  2.18358631e+00],\n",
       "       [ 1.89259063e+00,  1.25433206e+00,  3.62737436e-01],\n",
       "       [ 1.31453161e+00, -2.85535972e-01,  5.26300134e+00],\n",
       "       [-3.23921545e+00, -2.65565810e+00,  1.03861452e+00],\n",
       "       [ 3.10637705e+00, -8.51594632e-01, -3.44217556e-01],\n",
       "       [ 1.64667685e+00,  9.20965605e-01,  1.95556562e+00],\n",
       "       [-2.48324102e-01,  2.10847343e+00, -4.01127411e-01],\n",
       "       [ 4.22339048e+00, -2.40345929e+00, -1.13704654e+00],\n",
       "       [-1.80527275e+00,  1.49091985e+00, -8.99114191e-02],\n",
       "       [-7.80869860e-02,  1.19327925e+00,  1.04439979e+00]])"
      ]
     },
     "execution_count": 8,
     "metadata": {},
     "output_type": "execute_result"
    }
   ],
   "source": [
    "X_train_scaled=pca.fit_transform(X_train_scaled)\n",
    "X_train_scaled"
   ]
  },
  {
   "cell_type": "code",
   "execution_count": 9,
   "id": "65bc6905-026c-4b1c-b4db-78d1b58a1c2e",
   "metadata": {},
   "outputs": [
    {
     "data": {
      "text/plain": [
       "array([[ 2.06784347, -1.02818265, -0.11575274],\n",
       "       [ 1.12826003, -1.75112288,  0.14331189],\n",
       "       [-2.69423625, -0.19090259,  0.55217189],\n",
       "       [ 2.45626317, -1.38836512,  1.30287912],\n",
       "       [ 0.29065031,  2.37690085, -0.96932997],\n",
       "       [ 2.12402993, -2.39691265,  0.72605503],\n",
       "       [-0.40904513,  2.2194952 , -0.24457807],\n",
       "       [-2.57625722, -1.60581379,  0.14393092],\n",
       "       [ 1.62867609,  1.34373782,  1.7381057 ],\n",
       "       [-2.20209218, -0.27412877, -0.9825343 ],\n",
       "       [ 1.78436041,  0.2368371 ,  0.92553927],\n",
       "       [-2.32016653, -2.03364771,  0.19836312],\n",
       "       [ 0.7147604 , -0.18580121, -0.62118938],\n",
       "       [-2.30063977,  1.32472024, -1.73180098],\n",
       "       [ 2.26062893, -1.75000767,  0.15338861],\n",
       "       [-0.17678838,  1.98449992,  0.14558273],\n",
       "       [-0.35544197,  2.21343192,  0.96654485],\n",
       "       [-0.38581464,  2.32808535,  1.24649713],\n",
       "       [ 2.72374852, -0.94733607, -0.87093223],\n",
       "       [-0.39810197,  1.88935422,  1.36383657],\n",
       "       [ 3.4607463 , -2.74399183, -0.46035606],\n",
       "       [ 2.28975172,  1.66819176, -1.79134092],\n",
       "       [-1.40622608,  1.34797468, -0.97502291],\n",
       "       [-2.408058  , -2.29855094,  1.30134019],\n",
       "       [-3.62384862, -0.74557649, -1.32288649],\n",
       "       [-2.92744648, -1.43296026, -0.99770196],\n",
       "       [ 0.01364943,  1.99332546,  0.59293832],\n",
       "       [ 0.93494629,  0.67495608,  0.4973985 ],\n",
       "       [-1.21973431,  2.05411371, -0.03833772],\n",
       "       [ 2.43921079, -1.39038603,  0.42382499],\n",
       "       [ 2.27065455, -0.336752  , -0.98959079],\n",
       "       [-0.37417549,  1.91243856,  1.29108997],\n",
       "       [-2.51468924, -0.42602132, -0.91877652],\n",
       "       [ 2.65330389, -1.59729084, -0.37956554],\n",
       "       [ 2.10808184, -0.85114136, -0.80203281],\n",
       "       [ 3.0299755 , -1.28266506, -0.20053872]])"
      ]
     },
     "execution_count": 9,
     "metadata": {},
     "output_type": "execute_result"
    }
   ],
   "source": [
    "X_test_scaled=pca.transform(X_test_scaled)\n",
    "X_test_scaled"
   ]
  },
  {
   "cell_type": "code",
   "execution_count": 15,
   "id": "77485d1c-89b2-49e0-97c5-c15b6870719d",
   "metadata": {},
   "outputs": [
    {
     "data": {
      "text/plain": [
       "array([[ 0.12753249, -0.25623655, -0.02236181, -0.24428137,  0.14757757,\n",
       "         0.38490786,  0.41950095, -0.2992598 ,  0.30843734, -0.11907301,\n",
       "         0.29949964,  0.38381622,  0.27587548],\n",
       "       [-0.4928047 , -0.1904464 , -0.31676447,  0.03513857, -0.26217161,\n",
       "        -0.09601687, -0.01513129, -0.07626286, -0.0738558 , -0.53396728,\n",
       "         0.28133315,  0.14274046, -0.381054  ],\n",
       "       [-0.18514872,  0.1424076 ,  0.60965837,  0.59527663,  0.0663528 ,\n",
       "         0.17680473,  0.18174944,  0.20274722,  0.15058799, -0.12401015,\n",
       "         0.07300682,  0.21392593, -0.1430069 ]])"
      ]
     },
     "execution_count": 15,
     "metadata": {},
     "output_type": "execute_result"
    }
   ],
   "source": [
    "pca.components_"
   ]
  },
  {
   "cell_type": "code",
   "execution_count": 16,
   "id": "589818ce-0f80-4924-8aeb-6f56f835b2b4",
   "metadata": {},
   "outputs": [
    {
     "data": {
      "text/plain": [
       "array([0.35900066, 0.18691934, 0.11606557])"
      ]
     },
     "execution_count": 16,
     "metadata": {},
     "output_type": "execute_result"
    }
   ],
   "source": [
    "pca.explained_variance_ratio_"
   ]
  },
  {
   "cell_type": "code",
   "execution_count": 18,
   "id": "aa3a8310-b245-4f5d-a3f8-86c7a294bb1e",
   "metadata": {},
   "outputs": [
    {
     "data": {
      "image/png": "[encoded data removed]",
      "text/plain": [
       "<Figure size 640x480 with 1 Axes>"
      ]
     },
     "metadata": {},
     "output_type": "display_data"
    }
   ],
   "source": [
    "import numpy as np\n",
    "import matplotlib.pyplot as plt\n",
    "from sklearn.decomposition import PCA\n",
    "\n",
    "# Assuming you have x_train_scaled and x_test_scaled as your scaled data arrays\n",
    "\n",
    "# Concatenate the scaled training and test data\n",
    "X_combined_scaled = np.concatenate((X_train_scaled, X_test_scaled), axis=0)\n",
    "\n",
    "# Perform PCA on the combined scaled data\n",
    "pca = PCA(n_components=3)  # Specify the number of components you want to visualize\n",
    "pca.fit(X_combined_scaled)\n",
    "X_pca = pca.transform(X_combined_scaled)\n",
    "\n",
    "# Separate the transformed data back into training and test sets\n",
    "X_train_pca = X_pca[:len(X_train_scaled)]\n",
    "X_test_pca = X_pca[len(X_train_scaled):]\n",
    "\n",
    "# Scatter plot of the transformed data\n",
    "plt.scatter(X_train_pca[:, 0], X_train_pca[:, 1], c='blue', label='Train Data')\n",
    "plt.scatter(X_test_pca[:, 0], X_test_pca[:, 1], c='red', label='Test Data')\n",
    "plt.xlabel('Principal Component 1')\n",
    "plt.ylabel('Principal Component 2')\n",
    "plt.title('PCA Scatter Plot')\n",
    "plt.legend()\n",
    "plt.show()\n"
   ]
  },
  {
   "cell_type": "code",
   "execution_count": 19,
   "id": "1aac5c5c-520d-47f4-822d-54d8bca42a1f",
   "metadata": {},
   "outputs": [
    {
     "name": "stderr",
     "output_type": "stream",
     "text": [
      "/opt/conda/lib/python3.10/site-packages/sklearn/cluster/_kmeans.py:870: FutureWarning: The default value of `n_init` will change from 10 to 'auto' in 1.4. Set the value of `n_init` explicitly to suppress the warning\n",
      "  warnings.warn(\n"
     ]
    },
    {
     "data": {
      "image/png": "[encoded data removed]",
      "text/plain": [
       "<Figure size 640x480 with 1 Axes>"
      ]
     },
     "metadata": {},
     "output_type": "display_data"
    }
   ],
   "source": [
    "import numpy as np\n",
    "from sklearn.decomposition import PCA\n",
    "from sklearn.cluster import KMeans\n",
    "\n",
    "\n",
    "# Assuming you have x_combined_scaled as the PCA-transformed data from the previous example\n",
    "\n",
    "# Perform K-Means clustering on the PCA-transformed data\n",
    "kmeans = KMeans(n_clusters=3)  # Specify the number of clusters you want to create\n",
    "kmeans.fit(X_combined_scaled)\n",
    "labels = kmeans.labels_\n",
    "\n",
    "# Plot the clustered data\n",
    "plt.scatter(X_combined_scaled[:, 0], X_combined_scaled[:, 1], c=labels)\n",
    "plt.xlabel('Principal Component 1')\n",
    "plt.ylabel('Principal Component 2')\n",
    "plt.title('K-Means Clustering on PCA-transformed Data')\n",
    "plt.show()\n"
   ]
  },
  {
   "cell_type": "markdown",
   "id": "f93efbda-3324-43a6-a88e-87473cdb2b97",
   "metadata": {},
   "source": [
    "## Interpreting the results of PCA and clustering analysis.\n",
    "\n",
    "* We can see separation of 3 clusters in the data.\n",
    "* The spread of the data is in inverted-V shape.\n",
    "* There is some outliers/noise in the data.\n",
    "\n",
    "\n",
    "Overall, the interpretation of PCA and clustering results should be driven by a combination of statistical analysis, domain knowledge, and the specific objectives of the analysis.\n"
   ]
  },
  {
   "cell_type": "code",
   "execution_count": null,
   "id": "cb4ba8bf-23f3-483a-aec0-17f477b72303",
   "metadata": {},
   "outputs": [],
   "source": []
  }
 ],
 "metadata": {
  "kernelspec": {
   "display_name": "Python 3 (ipykernel)",
   "language": "python",
   "name": "python3"
  },
  "language_info": {
   "codemirror_mode": {
    "name": "ipython",
    "version": 3
   },
   "file_extension": ".py",
   "mimetype": "text/x-python",
   "name": "python",
   "nbconvert_exporter": "python",
   "pygments_lexer": "ipython3",
   "version": "3.10.8"
  }
 },
 "nbformat": 4,
 "nbformat_minor": 5
}
